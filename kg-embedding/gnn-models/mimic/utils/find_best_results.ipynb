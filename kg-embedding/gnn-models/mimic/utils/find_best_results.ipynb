{
 "cells": [
  {
   "cell_type": "code",
   "execution_count": null,
   "metadata": {},
   "outputs": [],
   "source": [
    "import json"
   ]
  },
  {
   "cell_type": "code",
   "execution_count": null,
   "metadata": {},
   "outputs": [],
   "source": [
    "def read_json(path):\n",
    "    with open(path) as json_file:\n",
    "        return json.load(json_file)"
   ]
  },
  {
   "cell_type": "code",
   "execution_count": null,
   "metadata": {},
   "outputs": [],
   "source": [
    "res = read_json('overall_results_across_splits.json')"
   ]
  },
  {
   "cell_type": "code",
   "execution_count": null,
   "metadata": {},
   "outputs": [],
   "source": [
    "best_res = {'accuracy': {'score': 0,\n",
    "                         'model': ''},\n",
    "            'precision': {'score': 0,\n",
    "                          'model': ''},\n",
    "            'recall': {'score': 0,\n",
    "                       'model': ''},\n",
    "            'f1_score': {'score': 0,\n",
    "                         'model': ''}}\n",
    "for k1 in res.keys():\n",
    "    for k2 in res[k1].keys():\n",
    "        for k3 in res[k1][k2].keys():\n",
    "            for k4 in res[k1][k2][k3].keys():\n",
    "                for k5 in res[k1][k2][k3][k4].keys():\n",
    "                    if res[k1][k2][k3][k4][k5]['avg_acc_across_splits'] > best_res['accuracy']['score']:\n",
    "                        best_res['accuracy']['score'] = res[k1][k2][k3][k4][k5]['avg_acc_across_splits']\n",
    "                        best_res['accuracy']['model'] = k1 + '_' + k2 + '_' + k3 + '_' + k4 + '_' + k5\n",
    "                    if res[k1][k2][k3][k4][k5]['avg_prec_across_splits'] > best_res['precision']['score']:\n",
    "                        best_res['precision']['score'] = res[k1][k2][k3][k4][k5]['avg_prec_across_splits']\n",
    "                        best_res['precision']['model'] = k1 + '_' + k2 + '_' + k3 + '_' + k4 + '_' + k5\n",
    "                    if res[k1][k2][k3][k4][k5]['avg_rec_across_splits'] > best_res['recall']['score']:\n",
    "                        best_res['recall']['score'] = res[k1][k2][k3][k4][k5]['avg_rec_across_splits']\n",
    "                        best_res['recall']['model'] = k1 + '_' + k2 + '_' + k3 + '_' + k4 + '_' + k5\n",
    "                    if res[k1][k2][k3][k4][k5]['avg_f1_across_splits'] > best_res['f1_score']['score']:\n",
    "                        best_res['f1_score']['score'] = res[k1][k2][k3][k4][k5]['avg_f1_across_splits']\n",
    "                        best_res['f1_score']['model'] = k1 + '_' + k2 + '_' + k3 + '_' + k4 + '_' + k5"
   ]
  },
  {
   "cell_type": "code",
   "execution_count": null,
   "metadata": {},
   "outputs": [],
   "source": [
    "for k1 in best_res.keys():\n",
    "    print(\"{}:\" .format(k1))\n",
    "    for k2 in best_res[k1].keys():\n",
    "        print(\"{}: {}\" .format(k2, best_res[k1][k2]))\n",
    "        print(\"_____\")\n",
    "    print(\"####\")"
   ]
  }
 ],
 "metadata": {
  "kernelspec": {
   "display_name": "Python 3.10.4 ('rdflib')",
   "language": "python",
   "name": "python3"
  },
  "language_info": {
   "codemirror_mode": {
    "name": "ipython",
    "version": 3
   },
   "file_extension": ".py",
   "mimetype": "text/x-python",
   "name": "python",
   "nbconvert_exporter": "python",
   "pygments_lexer": "ipython3",
   "version": "3.10.4"
  },
  "orig_nbformat": 4,
  "vscode": {
   "interpreter": {
    "hash": "0ee4729483d842604dddaa8635f36d71c83010289bfbf59e93f38e49e742a299"
   }
  }
 },
 "nbformat": 4,
 "nbformat_minor": 2
}
