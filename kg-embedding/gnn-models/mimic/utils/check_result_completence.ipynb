{
 "cells": [
  {
   "cell_type": "code",
   "execution_count": null,
   "metadata": {},
   "outputs": [],
   "source": [
    "import json"
   ]
  },
  {
   "cell_type": "code",
   "execution_count": null,
   "metadata": {},
   "outputs": [],
   "source": [
    "def read_json(path):\n",
    "    with open(path) as json_file:\n",
    "        return json.load(json_file)"
   ]
  },
  {
   "cell_type": "code",
   "execution_count": null,
   "metadata": {},
   "outputs": [],
   "source": [
    "res = read_json('overall_results.json')"
   ]
  },
  {
   "cell_type": "code",
   "execution_count": null,
   "metadata": {},
   "outputs": [],
   "source": [
    "res.keys()"
   ]
  },
  {
   "cell_type": "code",
   "execution_count": null,
   "metadata": {},
   "outputs": [],
   "source": [
    "runs_missing = []\n",
    "for k1 in res.keys():\n",
    "    for k2 in res[k1].keys():\n",
    "        for k3 in res[k1][k2].keys():\n",
    "            for k4 in res[k1][k2][k3].keys():\n",
    "                for k5 in res[k1][k2][k3][k4].keys():\n",
    "                    for k6 in res[k1][k2][k3][k4][k5].keys():\n",
    "                        flag = 0\n",
    "                        for acc in res[k1][k2][k3][k4][k5][k6]['acc']:\n",
    "                            if acc >= 0.0 and acc <= 1.0:\n",
    "                                pass\n",
    "                            else:\n",
    "                                flag = 1\n",
    "                                break\n",
    "                        if len(res[k1][k2][k3][k4][k5][k6]['acc']) != 5:\n",
    "                            flag = 1\n",
    "                        if flag == 1:\n",
    "                            runs_missing.append(k1 + '_' + k2 + '_' + k3 + '_' + k4 + '_' + k5 + '_' + k6 + '_')\n",
    "                        "
   ]
  },
  {
   "cell_type": "code",
   "execution_count": null,
   "metadata": {},
   "outputs": [],
   "source": [
    "runs_missing"
   ]
  }
 ],
 "metadata": {
  "kernelspec": {
   "display_name": "Python 3.10.4 ('rdflib')",
   "language": "python",
   "name": "python3"
  },
  "language_info": {
   "codemirror_mode": {
    "name": "ipython",
    "version": 3
   },
   "file_extension": ".py",
   "mimetype": "text/x-python",
   "name": "python",
   "nbconvert_exporter": "python",
   "pygments_lexer": "ipython3",
   "version": "3.10.4"
  },
  "orig_nbformat": 4,
  "vscode": {
   "interpreter": {
    "hash": "0ee4729483d842604dddaa8635f36d71c83010289bfbf59e93f38e49e742a299"
   }
  }
 },
 "nbformat": 4,
 "nbformat_minor": 2
}
